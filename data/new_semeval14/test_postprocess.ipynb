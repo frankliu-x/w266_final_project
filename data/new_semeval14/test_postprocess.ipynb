{
 "cells": [
  {
   "cell_type": "code",
   "execution_count": 2,
   "id": "advance-buffer",
   "metadata": {},
   "outputs": [],
   "source": [
    "import json\n",
    "import pandas as pd"
   ]
  },
  {
   "cell_type": "code",
   "execution_count": 3,
   "id": "unsigned-birth",
   "metadata": {},
   "outputs": [],
   "source": [
    "test_depparse = pd.read_json('Restaurants_Test_Gold_depparsed.json')\n",
    "test_biaffine = pd.read_json('Restaurants_Test_Gold_biaffine_depparsed_with_energy.json')\n",
    "test_biaffine_energy = pd.read_json('Restaurants_Test_Gold_biaffine_depparsed_with_energy.json')"
   ]
  },
  {
   "cell_type": "code",
   "execution_count": 4,
   "id": "invalid-remove",
   "metadata": {},
   "outputs": [
    {
     "data": {
      "text/html": [
       "<div>\n",
       "<style scoped>\n",
       "    .dataframe tbody tr th:only-of-type {\n",
       "        vertical-align: middle;\n",
       "    }\n",
       "\n",
       "    .dataframe tbody tr th {\n",
       "        vertical-align: top;\n",
       "    }\n",
       "\n",
       "    .dataframe thead th {\n",
       "        text-align: right;\n",
       "    }\n",
       "</style>\n",
       "<table border=\"1\" class=\"dataframe\">\n",
       "  <thead>\n",
       "    <tr style=\"text-align: right;\">\n",
       "      <th></th>\n",
       "      <th>sentence</th>\n",
       "      <th>tokens</th>\n",
       "      <th>tags</th>\n",
       "      <th>dependencies</th>\n",
       "      <th>aspect_sentiment</th>\n",
       "      <th>from_to</th>\n",
       "    </tr>\n",
       "  </thead>\n",
       "  <tbody>\n",
       "    <tr>\n",
       "      <th>0</th>\n",
       "      <td>The bread is top notch as well.</td>\n",
       "      <td>[The, bread, is, top, notch, as, well, .]</td>\n",
       "      <td>[DT, NN, VBZ, JJ, NN, RB, RB, .]</td>\n",
       "      <td>[[root, 0, 5], [det, 2, 1], [nsubj, 5, 2], [co...</td>\n",
       "      <td>[[bread, positive]]</td>\n",
       "      <td>[[1, 2]]</td>\n",
       "    </tr>\n",
       "    <tr>\n",
       "      <th>1</th>\n",
       "      <td>I have to say they have one of the fastest del...</td>\n",
       "      <td>[I, have, to, say, they, have, one, of, the, f...</td>\n",
       "      <td>[PRP, VBP, TO, VB, PRP, VBP, CD, IN, DT, JJS, ...</td>\n",
       "      <td>[[root, 0, 2], [nsubj, 2, 1], [nsubj:xsubj, 4,...</td>\n",
       "      <td>[[delivery times, positive]]</td>\n",
       "      <td>[[10, 12]]</td>\n",
       "    </tr>\n",
       "    <tr>\n",
       "      <th>2</th>\n",
       "      <td>Food is always fresh and hot- ready to eat!</td>\n",
       "      <td>[Food, is, always, fresh, and, hot, -, ready, ...</td>\n",
       "      <td>[NNP, VBZ, RB, JJ, CC, JJ, :, JJ, TO, VB, .]</td>\n",
       "      <td>[[root, 0, 4], [nsubj, 4, 1], [nsubj, 6, 1], [...</td>\n",
       "      <td>[[Food, positive]]</td>\n",
       "      <td>[[0, 1]]</td>\n",
       "    </tr>\n",
       "    <tr>\n",
       "      <th>3</th>\n",
       "      <td>Did I mention that the coffee is OUTSTANDING?</td>\n",
       "      <td>[Did, I, mention, that, the, coffee, is, OUTST...</td>\n",
       "      <td>[VBD, PRP, VB, IN, DT, NN, VBZ, NNP, .]</td>\n",
       "      <td>[[root, 0, 3], [aux, 3, 1], [nsubj, 3, 2], [ma...</td>\n",
       "      <td>[[coffee, positive]]</td>\n",
       "      <td>[[5, 6]]</td>\n",
       "    </tr>\n",
       "    <tr>\n",
       "      <th>4</th>\n",
       "      <td>Certainly not the best sushi in New York, howe...</td>\n",
       "      <td>[Certainly, not, the, best, sushi, in, New, Yo...</td>\n",
       "      <td>[RB, RB, DT, JJS, NN, IN, NNP, NNP, ,, RB, ,, ...</td>\n",
       "      <td>[[root, 0, 15], [advmod, 5, 1], [neg, 5, 2], [...</td>\n",
       "      <td>[[place, positive]]</td>\n",
       "      <td>[[18, 19]]</td>\n",
       "    </tr>\n",
       "  </tbody>\n",
       "</table>\n",
       "</div>"
      ],
      "text/plain": [
       "                                            sentence  \\\n",
       "0                    The bread is top notch as well.   \n",
       "1  I have to say they have one of the fastest del...   \n",
       "2        Food is always fresh and hot- ready to eat!   \n",
       "3      Did I mention that the coffee is OUTSTANDING?   \n",
       "4  Certainly not the best sushi in New York, howe...   \n",
       "\n",
       "                                              tokens  \\\n",
       "0          [The, bread, is, top, notch, as, well, .]   \n",
       "1  [I, have, to, say, they, have, one, of, the, f...   \n",
       "2  [Food, is, always, fresh, and, hot, -, ready, ...   \n",
       "3  [Did, I, mention, that, the, coffee, is, OUTST...   \n",
       "4  [Certainly, not, the, best, sushi, in, New, Yo...   \n",
       "\n",
       "                                                tags  \\\n",
       "0                   [DT, NN, VBZ, JJ, NN, RB, RB, .]   \n",
       "1  [PRP, VBP, TO, VB, PRP, VBP, CD, IN, DT, JJS, ...   \n",
       "2       [NNP, VBZ, RB, JJ, CC, JJ, :, JJ, TO, VB, .]   \n",
       "3            [VBD, PRP, VB, IN, DT, NN, VBZ, NNP, .]   \n",
       "4  [RB, RB, DT, JJS, NN, IN, NNP, NNP, ,, RB, ,, ...   \n",
       "\n",
       "                                        dependencies  \\\n",
       "0  [[root, 0, 5], [det, 2, 1], [nsubj, 5, 2], [co...   \n",
       "1  [[root, 0, 2], [nsubj, 2, 1], [nsubj:xsubj, 4,...   \n",
       "2  [[root, 0, 4], [nsubj, 4, 1], [nsubj, 6, 1], [...   \n",
       "3  [[root, 0, 3], [aux, 3, 1], [nsubj, 3, 2], [ma...   \n",
       "4  [[root, 0, 15], [advmod, 5, 1], [neg, 5, 2], [...   \n",
       "\n",
       "               aspect_sentiment     from_to  \n",
       "0           [[bread, positive]]    [[1, 2]]  \n",
       "1  [[delivery times, positive]]  [[10, 12]]  \n",
       "2            [[Food, positive]]    [[0, 1]]  \n",
       "3          [[coffee, positive]]    [[5, 6]]  \n",
       "4           [[place, positive]]  [[18, 19]]  "
      ]
     },
     "execution_count": 4,
     "metadata": {},
     "output_type": "execute_result"
    }
   ],
   "source": [
    "test_depparse.head()"
   ]
  },
  {
   "cell_type": "code",
   "execution_count": 5,
   "id": "veterinary-message",
   "metadata": {},
   "outputs": [
    {
     "data": {
      "text/html": [
       "<div>\n",
       "<style scoped>\n",
       "    .dataframe tbody tr th:only-of-type {\n",
       "        vertical-align: middle;\n",
       "    }\n",
       "\n",
       "    .dataframe tbody tr th {\n",
       "        vertical-align: top;\n",
       "    }\n",
       "\n",
       "    .dataframe thead th {\n",
       "        text-align: right;\n",
       "    }\n",
       "</style>\n",
       "<table border=\"1\" class=\"dataframe\">\n",
       "  <thead>\n",
       "    <tr style=\"text-align: right;\">\n",
       "      <th></th>\n",
       "      <th>sentence</th>\n",
       "      <th>tokens</th>\n",
       "      <th>tags</th>\n",
       "      <th>predicted_dependencies</th>\n",
       "      <th>predicted_heads</th>\n",
       "      <th>dependencies</th>\n",
       "      <th>aspect_sentiment</th>\n",
       "      <th>from_to</th>\n",
       "    </tr>\n",
       "  </thead>\n",
       "  <tbody>\n",
       "    <tr>\n",
       "      <th>0</th>\n",
       "      <td>The bread is top notch as well.</td>\n",
       "      <td>[The, bread, is, top, notch, as, well, .]</td>\n",
       "      <td>[DT, NN, VBZ, JJ, NN, RB, RB, .]</td>\n",
       "      <td>[det, nsubj, cop, amod, root, advmod, advmod, ...</td>\n",
       "      <td>[2, 5, 5, 5, 0, 7, 5, 5]</td>\n",
       "      <td>[[det, 2, 1], [nsubj, 5, 2], [cop, 5, 3], [amo...</td>\n",
       "      <td>[[bread, positive]]</td>\n",
       "      <td>[[1, 2]]</td>\n",
       "    </tr>\n",
       "    <tr>\n",
       "      <th>1</th>\n",
       "      <td>I have to say they have one of the fastest del...</td>\n",
       "      <td>[I, have, to, say, they, have, one, of, the, f...</td>\n",
       "      <td>[PRP, VBP, TO, VB, PRP, VBP, CD, IN, DT, JJS, ...</td>\n",
       "      <td>[nsubj, root, aux, xcomp, nsubj, ccomp, dobj, ...</td>\n",
       "      <td>[2, 0, 4, 2, 6, 4, 6, 7, 12, 12, 12, 8, 12, 15...</td>\n",
       "      <td>[[nsubj, 2, 1], [root, 0, 2], [aux, 4, 3], [xc...</td>\n",
       "      <td>[[delivery times, positive]]</td>\n",
       "      <td>[[10, 12]]</td>\n",
       "    </tr>\n",
       "    <tr>\n",
       "      <th>2</th>\n",
       "      <td>Food is always fresh and hot- ready to eat!</td>\n",
       "      <td>[Food, is, always, fresh, and, hot-, ready, to...</td>\n",
       "      <td>[NN, VBZ, RB, JJ, CC, RB, JJ, TO, VB, .]</td>\n",
       "      <td>[nsubj, cop, advmod, root, cc, advmod, conj, a...</td>\n",
       "      <td>[4, 4, 4, 0, 4, 7, 4, 9, 7, 4]</td>\n",
       "      <td>[[nsubj, 4, 1], [cop, 4, 2], [advmod, 4, 3], [...</td>\n",
       "      <td>[[Food, positive]]</td>\n",
       "      <td>[[0, 1]]</td>\n",
       "    </tr>\n",
       "    <tr>\n",
       "      <th>3</th>\n",
       "      <td>Did I mention that the coffee is OUTSTANDING?</td>\n",
       "      <td>[Did, I, mention, that, the, coffee, is, OUTST...</td>\n",
       "      <td>[VBD, PRP, VB, IN, DT, NN, VBZ, JJ, .]</td>\n",
       "      <td>[aux, nsubj, root, mark, det, nsubj, cop, ccom...</td>\n",
       "      <td>[3, 3, 0, 8, 6, 8, 8, 3, 3]</td>\n",
       "      <td>[[aux, 3, 1], [nsubj, 3, 2], [root, 0, 3], [ma...</td>\n",
       "      <td>[[coffee, positive]]</td>\n",
       "      <td>[[5, 6]]</td>\n",
       "    </tr>\n",
       "    <tr>\n",
       "      <th>4</th>\n",
       "      <td>Certainly not the best sushi in New York, howe...</td>\n",
       "      <td>[Certainly, not, the, best, sushi, in, New, Yo...</td>\n",
       "      <td>[RB, RB, DT, JJS, NN, IN, NNP, NNP, ,, RB, ,, ...</td>\n",
       "      <td>[dep, dep, det, amod, nsubj, prep, nn, pobj, p...</td>\n",
       "      <td>[2, 5, 5, 5, 15, 5, 8, 6, 15, 15, 15, 15, 15, ...</td>\n",
       "      <td>[[dep, 2, 1], [dep, 5, 2], [det, 5, 3], [amod,...</td>\n",
       "      <td>[[place, positive]]</td>\n",
       "      <td>[[18, 19]]</td>\n",
       "    </tr>\n",
       "  </tbody>\n",
       "</table>\n",
       "</div>"
      ],
      "text/plain": [
       "                                            sentence  \\\n",
       "0                    The bread is top notch as well.   \n",
       "1  I have to say they have one of the fastest del...   \n",
       "2        Food is always fresh and hot- ready to eat!   \n",
       "3      Did I mention that the coffee is OUTSTANDING?   \n",
       "4  Certainly not the best sushi in New York, howe...   \n",
       "\n",
       "                                              tokens  \\\n",
       "0          [The, bread, is, top, notch, as, well, .]   \n",
       "1  [I, have, to, say, they, have, one, of, the, f...   \n",
       "2  [Food, is, always, fresh, and, hot-, ready, to...   \n",
       "3  [Did, I, mention, that, the, coffee, is, OUTST...   \n",
       "4  [Certainly, not, the, best, sushi, in, New, Yo...   \n",
       "\n",
       "                                                tags  \\\n",
       "0                   [DT, NN, VBZ, JJ, NN, RB, RB, .]   \n",
       "1  [PRP, VBP, TO, VB, PRP, VBP, CD, IN, DT, JJS, ...   \n",
       "2           [NN, VBZ, RB, JJ, CC, RB, JJ, TO, VB, .]   \n",
       "3             [VBD, PRP, VB, IN, DT, NN, VBZ, JJ, .]   \n",
       "4  [RB, RB, DT, JJS, NN, IN, NNP, NNP, ,, RB, ,, ...   \n",
       "\n",
       "                              predicted_dependencies  \\\n",
       "0  [det, nsubj, cop, amod, root, advmod, advmod, ...   \n",
       "1  [nsubj, root, aux, xcomp, nsubj, ccomp, dobj, ...   \n",
       "2  [nsubj, cop, advmod, root, cc, advmod, conj, a...   \n",
       "3  [aux, nsubj, root, mark, det, nsubj, cop, ccom...   \n",
       "4  [dep, dep, det, amod, nsubj, prep, nn, pobj, p...   \n",
       "\n",
       "                                     predicted_heads  \\\n",
       "0                           [2, 5, 5, 5, 0, 7, 5, 5]   \n",
       "1  [2, 0, 4, 2, 6, 4, 6, 7, 12, 12, 12, 8, 12, 15...   \n",
       "2                     [4, 4, 4, 0, 4, 7, 4, 9, 7, 4]   \n",
       "3                        [3, 3, 0, 8, 6, 8, 8, 3, 3]   \n",
       "4  [2, 5, 5, 5, 15, 5, 8, 6, 15, 15, 15, 15, 15, ...   \n",
       "\n",
       "                                        dependencies  \\\n",
       "0  [[det, 2, 1], [nsubj, 5, 2], [cop, 5, 3], [amo...   \n",
       "1  [[nsubj, 2, 1], [root, 0, 2], [aux, 4, 3], [xc...   \n",
       "2  [[nsubj, 4, 1], [cop, 4, 2], [advmod, 4, 3], [...   \n",
       "3  [[aux, 3, 1], [nsubj, 3, 2], [root, 0, 3], [ma...   \n",
       "4  [[dep, 2, 1], [dep, 5, 2], [det, 5, 3], [amod,...   \n",
       "\n",
       "               aspect_sentiment     from_to  \n",
       "0           [[bread, positive]]    [[1, 2]]  \n",
       "1  [[delivery times, positive]]  [[10, 12]]  \n",
       "2            [[Food, positive]]    [[0, 1]]  \n",
       "3          [[coffee, positive]]    [[5, 6]]  \n",
       "4           [[place, positive]]  [[18, 19]]  "
      ]
     },
     "execution_count": 5,
     "metadata": {},
     "output_type": "execute_result"
    }
   ],
   "source": [
    "test_biaffine.head()"
   ]
  },
  {
   "cell_type": "code",
   "execution_count": 6,
   "id": "optical-handling",
   "metadata": {},
   "outputs": [
    {
     "data": {
      "text/html": [
       "<div>\n",
       "<style scoped>\n",
       "    .dataframe tbody tr th:only-of-type {\n",
       "        vertical-align: middle;\n",
       "    }\n",
       "\n",
       "    .dataframe tbody tr th {\n",
       "        vertical-align: top;\n",
       "    }\n",
       "\n",
       "    .dataframe thead th {\n",
       "        text-align: right;\n",
       "    }\n",
       "</style>\n",
       "<table border=\"1\" class=\"dataframe\">\n",
       "  <thead>\n",
       "    <tr style=\"text-align: right;\">\n",
       "      <th></th>\n",
       "      <th>sentence</th>\n",
       "      <th>tokens</th>\n",
       "      <th>tags</th>\n",
       "      <th>predicted_dependencies</th>\n",
       "      <th>predicted_heads</th>\n",
       "      <th>dependencies</th>\n",
       "      <th>aspect_sentiment</th>\n",
       "      <th>from_to</th>\n",
       "    </tr>\n",
       "  </thead>\n",
       "  <tbody>\n",
       "    <tr>\n",
       "      <th>0</th>\n",
       "      <td>The bread is top notch as well.</td>\n",
       "      <td>[The, bread, is, top, notch, as, well, .]</td>\n",
       "      <td>[DT, NN, VBZ, JJ, NN, RB, RB, .]</td>\n",
       "      <td>[det, nsubj, cop, amod, root, advmod, advmod, ...</td>\n",
       "      <td>[2, 5, 5, 5, 0, 7, 5, 5]</td>\n",
       "      <td>[[det, 2, 1], [nsubj, 5, 2], [cop, 5, 3], [amo...</td>\n",
       "      <td>[[bread, positive]]</td>\n",
       "      <td>[[1, 2]]</td>\n",
       "    </tr>\n",
       "    <tr>\n",
       "      <th>1</th>\n",
       "      <td>I have to say they have one of the fastest del...</td>\n",
       "      <td>[I, have, to, say, they, have, one, of, the, f...</td>\n",
       "      <td>[PRP, VBP, TO, VB, PRP, VBP, CD, IN, DT, JJS, ...</td>\n",
       "      <td>[nsubj, root, aux, xcomp, nsubj, ccomp, dobj, ...</td>\n",
       "      <td>[2, 0, 4, 2, 6, 4, 6, 7, 12, 12, 12, 8, 12, 15...</td>\n",
       "      <td>[[nsubj, 2, 1], [root, 0, 2], [aux, 4, 3], [xc...</td>\n",
       "      <td>[[delivery times, positive]]</td>\n",
       "      <td>[[10, 12]]</td>\n",
       "    </tr>\n",
       "    <tr>\n",
       "      <th>2</th>\n",
       "      <td>Food is always fresh and hot- ready to eat!</td>\n",
       "      <td>[Food, is, always, fresh, and, hot-, ready, to...</td>\n",
       "      <td>[NN, VBZ, RB, JJ, CC, RB, JJ, TO, VB, .]</td>\n",
       "      <td>[nsubj, cop, advmod, root, cc, advmod, conj, a...</td>\n",
       "      <td>[4, 4, 4, 0, 4, 7, 4, 9, 7, 4]</td>\n",
       "      <td>[[nsubj, 4, 1], [cop, 4, 2], [advmod, 4, 3], [...</td>\n",
       "      <td>[[Food, positive]]</td>\n",
       "      <td>[[0, 1]]</td>\n",
       "    </tr>\n",
       "    <tr>\n",
       "      <th>3</th>\n",
       "      <td>Did I mention that the coffee is OUTSTANDING?</td>\n",
       "      <td>[Did, I, mention, that, the, coffee, is, OUTST...</td>\n",
       "      <td>[VBD, PRP, VB, IN, DT, NN, VBZ, JJ, .]</td>\n",
       "      <td>[aux, nsubj, root, mark, det, nsubj, cop, ccom...</td>\n",
       "      <td>[3, 3, 0, 8, 6, 8, 8, 3, 3]</td>\n",
       "      <td>[[aux, 3, 1], [nsubj, 3, 2], [root, 0, 3], [ma...</td>\n",
       "      <td>[[coffee, positive]]</td>\n",
       "      <td>[[5, 6]]</td>\n",
       "    </tr>\n",
       "    <tr>\n",
       "      <th>4</th>\n",
       "      <td>Certainly not the best sushi in New York, howe...</td>\n",
       "      <td>[Certainly, not, the, best, sushi, in, New, Yo...</td>\n",
       "      <td>[RB, RB, DT, JJS, NN, IN, NNP, NNP, ,, RB, ,, ...</td>\n",
       "      <td>[dep, dep, det, amod, nsubj, prep, nn, pobj, p...</td>\n",
       "      <td>[2, 5, 5, 5, 15, 5, 8, 6, 15, 15, 15, 15, 15, ...</td>\n",
       "      <td>[[dep, 2, 1], [dep, 5, 2], [det, 5, 3], [amod,...</td>\n",
       "      <td>[[place, positive]]</td>\n",
       "      <td>[[18, 19]]</td>\n",
       "    </tr>\n",
       "  </tbody>\n",
       "</table>\n",
       "</div>"
      ],
      "text/plain": [
       "                                            sentence  \\\n",
       "0                    The bread is top notch as well.   \n",
       "1  I have to say they have one of the fastest del...   \n",
       "2        Food is always fresh and hot- ready to eat!   \n",
       "3      Did I mention that the coffee is OUTSTANDING?   \n",
       "4  Certainly not the best sushi in New York, howe...   \n",
       "\n",
       "                                              tokens  \\\n",
       "0          [The, bread, is, top, notch, as, well, .]   \n",
       "1  [I, have, to, say, they, have, one, of, the, f...   \n",
       "2  [Food, is, always, fresh, and, hot-, ready, to...   \n",
       "3  [Did, I, mention, that, the, coffee, is, OUTST...   \n",
       "4  [Certainly, not, the, best, sushi, in, New, Yo...   \n",
       "\n",
       "                                                tags  \\\n",
       "0                   [DT, NN, VBZ, JJ, NN, RB, RB, .]   \n",
       "1  [PRP, VBP, TO, VB, PRP, VBP, CD, IN, DT, JJS, ...   \n",
       "2           [NN, VBZ, RB, JJ, CC, RB, JJ, TO, VB, .]   \n",
       "3             [VBD, PRP, VB, IN, DT, NN, VBZ, JJ, .]   \n",
       "4  [RB, RB, DT, JJS, NN, IN, NNP, NNP, ,, RB, ,, ...   \n",
       "\n",
       "                              predicted_dependencies  \\\n",
       "0  [det, nsubj, cop, amod, root, advmod, advmod, ...   \n",
       "1  [nsubj, root, aux, xcomp, nsubj, ccomp, dobj, ...   \n",
       "2  [nsubj, cop, advmod, root, cc, advmod, conj, a...   \n",
       "3  [aux, nsubj, root, mark, det, nsubj, cop, ccom...   \n",
       "4  [dep, dep, det, amod, nsubj, prep, nn, pobj, p...   \n",
       "\n",
       "                                     predicted_heads  \\\n",
       "0                           [2, 5, 5, 5, 0, 7, 5, 5]   \n",
       "1  [2, 0, 4, 2, 6, 4, 6, 7, 12, 12, 12, 8, 12, 15...   \n",
       "2                     [4, 4, 4, 0, 4, 7, 4, 9, 7, 4]   \n",
       "3                        [3, 3, 0, 8, 6, 8, 8, 3, 3]   \n",
       "4  [2, 5, 5, 5, 15, 5, 8, 6, 15, 15, 15, 15, 15, ...   \n",
       "\n",
       "                                        dependencies  \\\n",
       "0  [[det, 2, 1], [nsubj, 5, 2], [cop, 5, 3], [amo...   \n",
       "1  [[nsubj, 2, 1], [root, 0, 2], [aux, 4, 3], [xc...   \n",
       "2  [[nsubj, 4, 1], [cop, 4, 2], [advmod, 4, 3], [...   \n",
       "3  [[aux, 3, 1], [nsubj, 3, 2], [root, 0, 3], [ma...   \n",
       "4  [[dep, 2, 1], [dep, 5, 2], [det, 5, 3], [amod,...   \n",
       "\n",
       "               aspect_sentiment     from_to  \n",
       "0           [[bread, positive]]    [[1, 2]]  \n",
       "1  [[delivery times, positive]]  [[10, 12]]  \n",
       "2            [[Food, positive]]    [[0, 1]]  \n",
       "3          [[coffee, positive]]    [[5, 6]]  \n",
       "4           [[place, positive]]  [[18, 19]]  "
      ]
     },
     "execution_count": 6,
     "metadata": {},
     "output_type": "execute_result"
    }
   ],
   "source": [
    "test_biaffine_energy.head()"
   ]
  },
  {
   "cell_type": "code",
   "execution_count": 12,
   "id": "collect-scholarship",
   "metadata": {},
   "outputs": [
    {
     "data": {
      "text/plain": [
       "Index(['sentence', 'tokens', 'tags', 'dependencies', 'aspect_sentiment',\n",
       "       'from_to'],\n",
       "      dtype='object')"
      ]
     },
     "execution_count": 12,
     "metadata": {},
     "output_type": "execute_result"
    }
   ],
   "source": [
    "test_depparse.columns"
   ]
  },
  {
   "cell_type": "code",
   "execution_count": 14,
   "id": "rental-dryer",
   "metadata": {},
   "outputs": [
    {
     "data": {
      "text/plain": [
       "Index(['sentence', 'tokens', 'tags', 'predicted_dependencies',\n",
       "       'predicted_heads', 'dependencies', 'aspect_sentiment', 'from_to'],\n",
       "      dtype='object')"
      ]
     },
     "execution_count": 14,
     "metadata": {},
     "output_type": "execute_result"
    }
   ],
   "source": [
    "test_biaffine.columns"
   ]
  },
  {
   "cell_type": "code",
   "execution_count": 19,
   "id": "nutritional-chocolate",
   "metadata": {},
   "outputs": [
    {
     "data": {
      "text/plain": [
       "Index(['sentence', 'tokens', 'tags', 'predicted_dependencies',\n",
       "       'predicted_heads', 'dependencies', 'aspect_sentiment', 'from_to'],\n",
       "      dtype='object')"
      ]
     },
     "execution_count": 19,
     "metadata": {},
     "output_type": "execute_result"
    }
   ],
   "source": [
    "test_biaffine_energy.columns"
   ]
  },
  {
   "cell_type": "code",
   "execution_count": 49,
   "id": "first-tracy",
   "metadata": {},
   "outputs": [
    {
     "data": {
      "text/plain": [
       "[['bread', 'positive']]"
      ]
     },
     "execution_count": 49,
     "metadata": {},
     "output_type": "execute_result"
    }
   ],
   "source": [
    "test_biaffine_energy.iloc[0]['aspect_sentiment']\n"
   ]
  },
  {
   "cell_type": "code",
   "execution_count": 46,
   "id": "protecting-trance",
   "metadata": {},
   "outputs": [
    {
     "data": {
      "text/plain": [
       "[['food', 'negative'], ['waiter', 'negative']]"
      ]
     },
     "execution_count": 46,
     "metadata": {},
     "output_type": "execute_result"
    }
   ],
   "source": [
    "test_biaffine_energy.iloc[597]['aspect_sentiment']"
   ]
  },
  {
   "cell_type": "markdown",
   "id": "improving-twelve",
   "metadata": {},
   "source": [
    "# Aspect Number"
   ]
  },
  {
   "cell_type": "markdown",
   "id": "suitable-least",
   "metadata": {},
   "source": [
    "Aspect No = 1, 285 -- test_biaffine_energy_1\n",
    "\n",
    "Aspect No = 2, 192 -- test_biaffine_energy_2\n",
    "\n",
    "Aspect No >=3, 123 -- test_biaffine_energy_3\n"
   ]
  },
  {
   "cell_type": "markdown",
   "id": "innovative-commonwealth",
   "metadata": {},
   "source": [
    "## Restaurants_Test_Gold_biaffine_depparsed_with_energy"
   ]
  },
  {
   "cell_type": "code",
   "execution_count": 97,
   "id": "great-hobby",
   "metadata": {},
   "outputs": [
    {
     "data": {
      "text/html": [
       "<div>\n",
       "<style scoped>\n",
       "    .dataframe tbody tr th:only-of-type {\n",
       "        vertical-align: middle;\n",
       "    }\n",
       "\n",
       "    .dataframe tbody tr th {\n",
       "        vertical-align: top;\n",
       "    }\n",
       "\n",
       "    .dataframe thead th {\n",
       "        text-align: right;\n",
       "    }\n",
       "</style>\n",
       "<table border=\"1\" class=\"dataframe\">\n",
       "  <thead>\n",
       "    <tr style=\"text-align: right;\">\n",
       "      <th></th>\n",
       "      <th>sentence</th>\n",
       "      <th>tokens</th>\n",
       "      <th>tags</th>\n",
       "      <th>predicted_dependencies</th>\n",
       "      <th>predicted_heads</th>\n",
       "      <th>dependencies</th>\n",
       "      <th>aspect_sentiment</th>\n",
       "      <th>from_to</th>\n",
       "      <th>sentiment_diff</th>\n",
       "      <th>best_sentiment</th>\n",
       "    </tr>\n",
       "    <tr>\n",
       "      <th>aspect_no</th>\n",
       "      <th></th>\n",
       "      <th></th>\n",
       "      <th></th>\n",
       "      <th></th>\n",
       "      <th></th>\n",
       "      <th></th>\n",
       "      <th></th>\n",
       "      <th></th>\n",
       "      <th></th>\n",
       "      <th></th>\n",
       "    </tr>\n",
       "  </thead>\n",
       "  <tbody>\n",
       "    <tr>\n",
       "      <th>1</th>\n",
       "      <td>285</td>\n",
       "      <td>285</td>\n",
       "      <td>285</td>\n",
       "      <td>285</td>\n",
       "      <td>285</td>\n",
       "      <td>285</td>\n",
       "      <td>285</td>\n",
       "      <td>285</td>\n",
       "      <td>285</td>\n",
       "      <td>285</td>\n",
       "    </tr>\n",
       "    <tr>\n",
       "      <th>2</th>\n",
       "      <td>192</td>\n",
       "      <td>192</td>\n",
       "      <td>192</td>\n",
       "      <td>192</td>\n",
       "      <td>192</td>\n",
       "      <td>192</td>\n",
       "      <td>192</td>\n",
       "      <td>192</td>\n",
       "      <td>192</td>\n",
       "      <td>192</td>\n",
       "    </tr>\n",
       "    <tr>\n",
       "      <th>3</th>\n",
       "      <td>73</td>\n",
       "      <td>73</td>\n",
       "      <td>73</td>\n",
       "      <td>73</td>\n",
       "      <td>73</td>\n",
       "      <td>73</td>\n",
       "      <td>73</td>\n",
       "      <td>73</td>\n",
       "      <td>73</td>\n",
       "      <td>73</td>\n",
       "    </tr>\n",
       "    <tr>\n",
       "      <th>4</th>\n",
       "      <td>31</td>\n",
       "      <td>31</td>\n",
       "      <td>31</td>\n",
       "      <td>31</td>\n",
       "      <td>31</td>\n",
       "      <td>31</td>\n",
       "      <td>31</td>\n",
       "      <td>31</td>\n",
       "      <td>31</td>\n",
       "      <td>31</td>\n",
       "    </tr>\n",
       "    <tr>\n",
       "      <th>5</th>\n",
       "      <td>14</td>\n",
       "      <td>14</td>\n",
       "      <td>14</td>\n",
       "      <td>14</td>\n",
       "      <td>14</td>\n",
       "      <td>14</td>\n",
       "      <td>14</td>\n",
       "      <td>14</td>\n",
       "      <td>14</td>\n",
       "      <td>14</td>\n",
       "    </tr>\n",
       "    <tr>\n",
       "      <th>6</th>\n",
       "      <td>3</td>\n",
       "      <td>3</td>\n",
       "      <td>3</td>\n",
       "      <td>3</td>\n",
       "      <td>3</td>\n",
       "      <td>3</td>\n",
       "      <td>3</td>\n",
       "      <td>3</td>\n",
       "      <td>3</td>\n",
       "      <td>3</td>\n",
       "    </tr>\n",
       "    <tr>\n",
       "      <th>7</th>\n",
       "      <td>1</td>\n",
       "      <td>1</td>\n",
       "      <td>1</td>\n",
       "      <td>1</td>\n",
       "      <td>1</td>\n",
       "      <td>1</td>\n",
       "      <td>1</td>\n",
       "      <td>1</td>\n",
       "      <td>1</td>\n",
       "      <td>1</td>\n",
       "    </tr>\n",
       "    <tr>\n",
       "      <th>13</th>\n",
       "      <td>1</td>\n",
       "      <td>1</td>\n",
       "      <td>1</td>\n",
       "      <td>1</td>\n",
       "      <td>1</td>\n",
       "      <td>1</td>\n",
       "      <td>1</td>\n",
       "      <td>1</td>\n",
       "      <td>1</td>\n",
       "      <td>1</td>\n",
       "    </tr>\n",
       "  </tbody>\n",
       "</table>\n",
       "</div>"
      ],
      "text/plain": [
       "           sentence  tokens  tags  predicted_dependencies  predicted_heads  \\\n",
       "aspect_no                                                                    \n",
       "1               285     285   285                     285              285   \n",
       "2               192     192   192                     192              192   \n",
       "3                73      73    73                      73               73   \n",
       "4                31      31    31                      31               31   \n",
       "5                14      14    14                      14               14   \n",
       "6                 3       3     3                       3                3   \n",
       "7                 1       1     1                       1                1   \n",
       "13                1       1     1                       1                1   \n",
       "\n",
       "           dependencies  aspect_sentiment  from_to  sentiment_diff  \\\n",
       "aspect_no                                                            \n",
       "1                   285               285      285             285   \n",
       "2                   192               192      192             192   \n",
       "3                    73                73       73              73   \n",
       "4                    31                31       31              31   \n",
       "5                    14                14       14              14   \n",
       "6                     3                 3        3               3   \n",
       "7                     1                 1        1               1   \n",
       "13                    1                 1        1               1   \n",
       "\n",
       "           best_sentiment  \n",
       "aspect_no                  \n",
       "1                     285  \n",
       "2                     192  \n",
       "3                      73  \n",
       "4                      31  \n",
       "5                      14  \n",
       "6                       3  \n",
       "7                       1  \n",
       "13                      1  "
      ]
     },
     "execution_count": 97,
     "metadata": {},
     "output_type": "execute_result"
    }
   ],
   "source": [
    "test_biaffine_energy['aspect_no'] = test_biaffine_energy.apply(lambda row: len(row.aspect_sentiment), axis = 1)\n",
    "test_biaffine_energy.groupby('aspect_no').count()"
   ]
  },
  {
   "cell_type": "code",
   "execution_count": 8,
   "id": "vocational-robin",
   "metadata": {},
   "outputs": [],
   "source": [
    "test_biaffine_energy_1 = test_biaffine_energy[['sentence', 'tokens', 'tags', 'predicted_dependencies',\n",
    "       'predicted_heads', 'dependencies', 'aspect_sentiment', 'from_to']][test_biaffine_energy['aspect_no']==1]\n",
    "test_biaffine_energy_1.to_json('Restaurants_Test_Gold_biaffine_depparsed_with_energy_1.json', orient='records')"
   ]
  },
  {
   "cell_type": "code",
   "execution_count": 9,
   "id": "nervous-cyprus",
   "metadata": {},
   "outputs": [],
   "source": [
    "test_biaffine_energy_2 = test_biaffine_energy[['sentence', 'tokens', 'tags', 'predicted_dependencies',\n",
    "       'predicted_heads', 'dependencies', 'aspect_sentiment', 'from_to']][test_biaffine_energy['aspect_no']==2]\n",
    "test_biaffine_energy_2.to_json('Restaurants_Test_Gold_biaffine_depparsed_with_energy_2.json', orient='records')"
   ]
  },
  {
   "cell_type": "code",
   "execution_count": 10,
   "id": "treated-fleet",
   "metadata": {},
   "outputs": [],
   "source": [
    "test_biaffine_energy_3 = test_biaffine_energy[['sentence', 'tokens', 'tags', 'predicted_dependencies',\n",
    "       'predicted_heads', 'dependencies', 'aspect_sentiment', 'from_to']][test_biaffine_energy['aspect_no']>=3]\n",
    "test_biaffine_energy_3.to_json('Restaurants_Test_Gold_biaffine_depparsed_with_energy_3.json', orient='records')"
   ]
  },
  {
   "cell_type": "markdown",
   "id": "quick-invitation",
   "metadata": {},
   "source": [
    "## Restaurants_Test_Gold_biaffine_depparsed"
   ]
  },
  {
   "cell_type": "code",
   "execution_count": 12,
   "id": "awful-concentration",
   "metadata": {},
   "outputs": [
    {
     "data": {
      "text/html": [
       "<div>\n",
       "<style scoped>\n",
       "    .dataframe tbody tr th:only-of-type {\n",
       "        vertical-align: middle;\n",
       "    }\n",
       "\n",
       "    .dataframe tbody tr th {\n",
       "        vertical-align: top;\n",
       "    }\n",
       "\n",
       "    .dataframe thead th {\n",
       "        text-align: right;\n",
       "    }\n",
       "</style>\n",
       "<table border=\"1\" class=\"dataframe\">\n",
       "  <thead>\n",
       "    <tr style=\"text-align: right;\">\n",
       "      <th></th>\n",
       "      <th>sentence</th>\n",
       "      <th>tokens</th>\n",
       "      <th>tags</th>\n",
       "      <th>predicted_dependencies</th>\n",
       "      <th>predicted_heads</th>\n",
       "      <th>dependencies</th>\n",
       "      <th>aspect_sentiment</th>\n",
       "      <th>from_to</th>\n",
       "    </tr>\n",
       "    <tr>\n",
       "      <th>aspect_no</th>\n",
       "      <th></th>\n",
       "      <th></th>\n",
       "      <th></th>\n",
       "      <th></th>\n",
       "      <th></th>\n",
       "      <th></th>\n",
       "      <th></th>\n",
       "      <th></th>\n",
       "    </tr>\n",
       "  </thead>\n",
       "  <tbody>\n",
       "    <tr>\n",
       "      <th>1</th>\n",
       "      <td>285</td>\n",
       "      <td>285</td>\n",
       "      <td>285</td>\n",
       "      <td>285</td>\n",
       "      <td>285</td>\n",
       "      <td>285</td>\n",
       "      <td>285</td>\n",
       "      <td>285</td>\n",
       "    </tr>\n",
       "    <tr>\n",
       "      <th>2</th>\n",
       "      <td>192</td>\n",
       "      <td>192</td>\n",
       "      <td>192</td>\n",
       "      <td>192</td>\n",
       "      <td>192</td>\n",
       "      <td>192</td>\n",
       "      <td>192</td>\n",
       "      <td>192</td>\n",
       "    </tr>\n",
       "    <tr>\n",
       "      <th>3</th>\n",
       "      <td>73</td>\n",
       "      <td>73</td>\n",
       "      <td>73</td>\n",
       "      <td>73</td>\n",
       "      <td>73</td>\n",
       "      <td>73</td>\n",
       "      <td>73</td>\n",
       "      <td>73</td>\n",
       "    </tr>\n",
       "    <tr>\n",
       "      <th>4</th>\n",
       "      <td>31</td>\n",
       "      <td>31</td>\n",
       "      <td>31</td>\n",
       "      <td>31</td>\n",
       "      <td>31</td>\n",
       "      <td>31</td>\n",
       "      <td>31</td>\n",
       "      <td>31</td>\n",
       "    </tr>\n",
       "    <tr>\n",
       "      <th>5</th>\n",
       "      <td>14</td>\n",
       "      <td>14</td>\n",
       "      <td>14</td>\n",
       "      <td>14</td>\n",
       "      <td>14</td>\n",
       "      <td>14</td>\n",
       "      <td>14</td>\n",
       "      <td>14</td>\n",
       "    </tr>\n",
       "    <tr>\n",
       "      <th>6</th>\n",
       "      <td>3</td>\n",
       "      <td>3</td>\n",
       "      <td>3</td>\n",
       "      <td>3</td>\n",
       "      <td>3</td>\n",
       "      <td>3</td>\n",
       "      <td>3</td>\n",
       "      <td>3</td>\n",
       "    </tr>\n",
       "    <tr>\n",
       "      <th>7</th>\n",
       "      <td>1</td>\n",
       "      <td>1</td>\n",
       "      <td>1</td>\n",
       "      <td>1</td>\n",
       "      <td>1</td>\n",
       "      <td>1</td>\n",
       "      <td>1</td>\n",
       "      <td>1</td>\n",
       "    </tr>\n",
       "    <tr>\n",
       "      <th>13</th>\n",
       "      <td>1</td>\n",
       "      <td>1</td>\n",
       "      <td>1</td>\n",
       "      <td>1</td>\n",
       "      <td>1</td>\n",
       "      <td>1</td>\n",
       "      <td>1</td>\n",
       "      <td>1</td>\n",
       "    </tr>\n",
       "  </tbody>\n",
       "</table>\n",
       "</div>"
      ],
      "text/plain": [
       "           sentence  tokens  tags  predicted_dependencies  predicted_heads  \\\n",
       "aspect_no                                                                    \n",
       "1               285     285   285                     285              285   \n",
       "2               192     192   192                     192              192   \n",
       "3                73      73    73                      73               73   \n",
       "4                31      31    31                      31               31   \n",
       "5                14      14    14                      14               14   \n",
       "6                 3       3     3                       3                3   \n",
       "7                 1       1     1                       1                1   \n",
       "13                1       1     1                       1                1   \n",
       "\n",
       "           dependencies  aspect_sentiment  from_to  \n",
       "aspect_no                                           \n",
       "1                   285               285      285  \n",
       "2                   192               192      192  \n",
       "3                    73                73       73  \n",
       "4                    31                31       31  \n",
       "5                    14                14       14  \n",
       "6                     3                 3        3  \n",
       "7                     1                 1        1  \n",
       "13                    1                 1        1  "
      ]
     },
     "execution_count": 12,
     "metadata": {},
     "output_type": "execute_result"
    }
   ],
   "source": [
    "test_biaffine['aspect_no'] = test_biaffine.apply(lambda row: len(row.aspect_sentiment), axis = 1)\n",
    "test_biaffine.groupby('aspect_no').count()"
   ]
  },
  {
   "cell_type": "code",
   "execution_count": 13,
   "id": "developmental-minister",
   "metadata": {},
   "outputs": [],
   "source": [
    "test_biaffine1 = test_biaffine[['sentence', 'tokens', 'tags', 'predicted_dependencies',\n",
    "       'predicted_heads', 'dependencies', 'aspect_sentiment', 'from_to']][test_biaffine['aspect_no']==1]\n",
    "test_biaffine1.to_json('Restaurants_Test_Gold_biaffine_depparsed_1.json', orient='records')"
   ]
  },
  {
   "cell_type": "code",
   "execution_count": 14,
   "id": "functional-injection",
   "metadata": {},
   "outputs": [],
   "source": [
    "test_biaffine2 = test_biaffine[['sentence', 'tokens', 'tags', 'predicted_dependencies',\n",
    "       'predicted_heads', 'dependencies', 'aspect_sentiment', 'from_to']][test_biaffine['aspect_no']==2]\n",
    "test_biaffine2.to_json('Restaurants_Test_Gold_biaffine_depparsed_2.json', orient='records')"
   ]
  },
  {
   "cell_type": "code",
   "execution_count": 15,
   "id": "coated-mirror",
   "metadata": {},
   "outputs": [],
   "source": [
    "test_biaffine3 = test_biaffine[['sentence', 'tokens', 'tags', 'predicted_dependencies',\n",
    "       'predicted_heads', 'dependencies', 'aspect_sentiment', 'from_to']][test_biaffine['aspect_no']>=3]\n",
    "test_biaffine3.to_json('Restaurants_Test_Gold_biaffine_depparsed_3.json', orient='records')"
   ]
  },
  {
   "cell_type": "markdown",
   "id": "green-carpet",
   "metadata": {},
   "source": [
    "## Restaurants_Test_Gold_biaffine_depparsed"
   ]
  },
  {
   "cell_type": "code",
   "execution_count": 16,
   "id": "considerable-exercise",
   "metadata": {},
   "outputs": [
    {
     "data": {
      "text/html": [
       "<div>\n",
       "<style scoped>\n",
       "    .dataframe tbody tr th:only-of-type {\n",
       "        vertical-align: middle;\n",
       "    }\n",
       "\n",
       "    .dataframe tbody tr th {\n",
       "        vertical-align: top;\n",
       "    }\n",
       "\n",
       "    .dataframe thead th {\n",
       "        text-align: right;\n",
       "    }\n",
       "</style>\n",
       "<table border=\"1\" class=\"dataframe\">\n",
       "  <thead>\n",
       "    <tr style=\"text-align: right;\">\n",
       "      <th></th>\n",
       "      <th>sentence</th>\n",
       "      <th>tokens</th>\n",
       "      <th>tags</th>\n",
       "      <th>dependencies</th>\n",
       "      <th>aspect_sentiment</th>\n",
       "      <th>from_to</th>\n",
       "    </tr>\n",
       "    <tr>\n",
       "      <th>aspect_no</th>\n",
       "      <th></th>\n",
       "      <th></th>\n",
       "      <th></th>\n",
       "      <th></th>\n",
       "      <th></th>\n",
       "      <th></th>\n",
       "    </tr>\n",
       "  </thead>\n",
       "  <tbody>\n",
       "    <tr>\n",
       "      <th>1</th>\n",
       "      <td>285</td>\n",
       "      <td>285</td>\n",
       "      <td>285</td>\n",
       "      <td>285</td>\n",
       "      <td>285</td>\n",
       "      <td>285</td>\n",
       "    </tr>\n",
       "    <tr>\n",
       "      <th>2</th>\n",
       "      <td>192</td>\n",
       "      <td>192</td>\n",
       "      <td>192</td>\n",
       "      <td>192</td>\n",
       "      <td>192</td>\n",
       "      <td>192</td>\n",
       "    </tr>\n",
       "    <tr>\n",
       "      <th>3</th>\n",
       "      <td>73</td>\n",
       "      <td>73</td>\n",
       "      <td>73</td>\n",
       "      <td>73</td>\n",
       "      <td>73</td>\n",
       "      <td>73</td>\n",
       "    </tr>\n",
       "    <tr>\n",
       "      <th>4</th>\n",
       "      <td>31</td>\n",
       "      <td>31</td>\n",
       "      <td>31</td>\n",
       "      <td>31</td>\n",
       "      <td>31</td>\n",
       "      <td>31</td>\n",
       "    </tr>\n",
       "    <tr>\n",
       "      <th>5</th>\n",
       "      <td>14</td>\n",
       "      <td>14</td>\n",
       "      <td>14</td>\n",
       "      <td>14</td>\n",
       "      <td>14</td>\n",
       "      <td>14</td>\n",
       "    </tr>\n",
       "    <tr>\n",
       "      <th>6</th>\n",
       "      <td>3</td>\n",
       "      <td>3</td>\n",
       "      <td>3</td>\n",
       "      <td>3</td>\n",
       "      <td>3</td>\n",
       "      <td>3</td>\n",
       "    </tr>\n",
       "    <tr>\n",
       "      <th>7</th>\n",
       "      <td>1</td>\n",
       "      <td>1</td>\n",
       "      <td>1</td>\n",
       "      <td>1</td>\n",
       "      <td>1</td>\n",
       "      <td>1</td>\n",
       "    </tr>\n",
       "    <tr>\n",
       "      <th>13</th>\n",
       "      <td>1</td>\n",
       "      <td>1</td>\n",
       "      <td>1</td>\n",
       "      <td>1</td>\n",
       "      <td>1</td>\n",
       "      <td>1</td>\n",
       "    </tr>\n",
       "  </tbody>\n",
       "</table>\n",
       "</div>"
      ],
      "text/plain": [
       "           sentence  tokens  tags  dependencies  aspect_sentiment  from_to\n",
       "aspect_no                                                                 \n",
       "1               285     285   285           285               285      285\n",
       "2               192     192   192           192               192      192\n",
       "3                73      73    73            73                73       73\n",
       "4                31      31    31            31                31       31\n",
       "5                14      14    14            14                14       14\n",
       "6                 3       3     3             3                 3        3\n",
       "7                 1       1     1             1                 1        1\n",
       "13                1       1     1             1                 1        1"
      ]
     },
     "execution_count": 16,
     "metadata": {},
     "output_type": "execute_result"
    }
   ],
   "source": [
    "test_depparse['aspect_no'] = test_depparse.apply(lambda row: len(row.aspect_sentiment), axis = 1)\n",
    "test_depparse.groupby('aspect_no').count()"
   ]
  },
  {
   "cell_type": "code",
   "execution_count": 17,
   "id": "governing-action",
   "metadata": {},
   "outputs": [],
   "source": [
    "test_depparse1 = test_biaffine[['sentence', 'tokens', 'tags', 'predicted_dependencies',\n",
    "       'predicted_heads', 'dependencies', 'aspect_sentiment', 'from_to']][test_depparse['aspect_no']==1]\n",
    "test_depparse1.to_json('Restaurants_Test_Gold_depparsed_1.json', orient='records')"
   ]
  },
  {
   "cell_type": "code",
   "execution_count": 18,
   "id": "regulation-rider",
   "metadata": {},
   "outputs": [],
   "source": [
    "test_depparse2 = test_biaffine[['sentence', 'tokens', 'tags', 'predicted_dependencies',\n",
    "       'predicted_heads', 'dependencies', 'aspect_sentiment', 'from_to']][test_depparse['aspect_no']==2]\n",
    "test_depparse2.to_json('Restaurants_Test_Gold_depparsed_2.json', orient='records')"
   ]
  },
  {
   "cell_type": "code",
   "execution_count": 19,
   "id": "proved-talent",
   "metadata": {},
   "outputs": [],
   "source": [
    "test_depparse3 = test_biaffine[['sentence', 'tokens', 'tags', 'predicted_dependencies',\n",
    "       'predicted_heads', 'dependencies', 'aspect_sentiment', 'from_to']][test_depparse['aspect_no']>=3]\n",
    "test_depparse3.to_json('Restaurants_Test_Gold_depparsed_3.json', orient='records')"
   ]
  },
  {
   "cell_type": "markdown",
   "id": "musical-indiana",
   "metadata": {},
   "source": [
    "# Aspect Sentiment"
   ]
  },
  {
   "cell_type": "code",
   "execution_count": 7,
   "id": "hollywood-hebrew",
   "metadata": {},
   "outputs": [
    {
     "data": {
      "text/plain": [
       "[['food', 'negative'], ['waiter', 'negative']]"
      ]
     },
     "execution_count": 7,
     "metadata": {},
     "output_type": "execute_result"
    }
   ],
   "source": [
    "test_biaffine_energy.iloc[597]['aspect_sentiment']"
   ]
  },
  {
   "cell_type": "code",
   "execution_count": 38,
   "id": "gothic-cotton",
   "metadata": {},
   "outputs": [
    {
     "data": {
      "text/plain": [
       "[['bread', 'positive']]"
      ]
     },
     "execution_count": 38,
     "metadata": {},
     "output_type": "execute_result"
    }
   ],
   "source": [
    "test_biaffine_energy.iloc[0]['aspect_sentiment']"
   ]
  },
  {
   "cell_type": "code",
   "execution_count": 42,
   "id": "global-hunger",
   "metadata": {},
   "outputs": [],
   "source": [
    "def sent_code(data_row):\n",
    "    '''\n",
    "    positive = 1, negative = -1, other 0\n",
    "    '''\n",
    "    \n",
    "    sentiments = [x[1] for x in data_row.aspect_sentiment]\n",
    "    sentiment_code = [ 1 if item == 'positive' else -1 if item == 'negative' else 0 for item in sentiments]\n",
    "    \n",
    "    return sentiment_code\n",
    "\n"
   ]
  },
  {
   "cell_type": "code",
   "execution_count": 96,
   "id": "backed-genius",
   "metadata": {},
   "outputs": [
    {
     "data": {
      "text/html": [
       "<div>\n",
       "<style scoped>\n",
       "    .dataframe tbody tr th:only-of-type {\n",
       "        vertical-align: middle;\n",
       "    }\n",
       "\n",
       "    .dataframe tbody tr th {\n",
       "        vertical-align: top;\n",
       "    }\n",
       "\n",
       "    .dataframe thead th {\n",
       "        text-align: right;\n",
       "    }\n",
       "</style>\n",
       "<table border=\"1\" class=\"dataframe\">\n",
       "  <thead>\n",
       "    <tr style=\"text-align: right;\">\n",
       "      <th></th>\n",
       "      <th>sentence</th>\n",
       "      <th>tokens</th>\n",
       "      <th>tags</th>\n",
       "      <th>predicted_dependencies</th>\n",
       "      <th>predicted_heads</th>\n",
       "      <th>dependencies</th>\n",
       "      <th>aspect_sentiment</th>\n",
       "      <th>from_to</th>\n",
       "      <th>aspect_no</th>\n",
       "      <th>best_sentiment</th>\n",
       "    </tr>\n",
       "    <tr>\n",
       "      <th>sentiment_diff</th>\n",
       "      <th></th>\n",
       "      <th></th>\n",
       "      <th></th>\n",
       "      <th></th>\n",
       "      <th></th>\n",
       "      <th></th>\n",
       "      <th></th>\n",
       "      <th></th>\n",
       "      <th></th>\n",
       "      <th></th>\n",
       "    </tr>\n",
       "  </thead>\n",
       "  <tbody>\n",
       "    <tr>\n",
       "      <th>0</th>\n",
       "      <td>520</td>\n",
       "      <td>520</td>\n",
       "      <td>520</td>\n",
       "      <td>520</td>\n",
       "      <td>520</td>\n",
       "      <td>520</td>\n",
       "      <td>520</td>\n",
       "      <td>520</td>\n",
       "      <td>520</td>\n",
       "      <td>520</td>\n",
       "    </tr>\n",
       "    <tr>\n",
       "      <th>1</th>\n",
       "      <td>62</td>\n",
       "      <td>62</td>\n",
       "      <td>62</td>\n",
       "      <td>62</td>\n",
       "      <td>62</td>\n",
       "      <td>62</td>\n",
       "      <td>62</td>\n",
       "      <td>62</td>\n",
       "      <td>62</td>\n",
       "      <td>62</td>\n",
       "    </tr>\n",
       "    <tr>\n",
       "      <th>2</th>\n",
       "      <td>18</td>\n",
       "      <td>18</td>\n",
       "      <td>18</td>\n",
       "      <td>18</td>\n",
       "      <td>18</td>\n",
       "      <td>18</td>\n",
       "      <td>18</td>\n",
       "      <td>18</td>\n",
       "      <td>18</td>\n",
       "      <td>18</td>\n",
       "    </tr>\n",
       "  </tbody>\n",
       "</table>\n",
       "</div>"
      ],
      "text/plain": [
       "                sentence  tokens  tags  predicted_dependencies  \\\n",
       "sentiment_diff                                                   \n",
       "0                    520     520   520                     520   \n",
       "1                     62      62    62                      62   \n",
       "2                     18      18    18                      18   \n",
       "\n",
       "                predicted_heads  dependencies  aspect_sentiment  from_to  \\\n",
       "sentiment_diff                                                             \n",
       "0                           520           520               520      520   \n",
       "1                            62            62                62       62   \n",
       "2                            18            18                18       18   \n",
       "\n",
       "                aspect_no  best_sentiment  \n",
       "sentiment_diff                             \n",
       "0                     520             520  \n",
       "1                      62              62  \n",
       "2                      18              18  "
      ]
     },
     "execution_count": 96,
     "metadata": {},
     "output_type": "execute_result"
    }
   ],
   "source": [
    "test_biaffine_energy['sentiment_diff'] = test_biaffine.apply(lambda row: max(sent_code(row))-min(sent_code(row)), axis =1)\n",
    "test_biaffine_energy['best_sentiment'] = test_biaffine.apply(lambda row: max(sent_code(row)), axis =1)\n",
    "test_biaffine_energy.groupby('sentiment_diff').count()"
   ]
  },
  {
   "cell_type": "markdown",
   "id": "sapphire-vatican",
   "metadata": {},
   "source": [
    "Sentiment Difference 0, 520\n",
    "\n",
    "Sentiment Difference 1, 62\n",
    "\n",
    "Sentiment Difference 2, 18\n",
    "\n",
    "-------\n",
    "\n",
    "\n",
    "Multiple Aspects, Same sentiment  235\n",
    "\n",
    " - Multiple Aspects, All positive 177\n",
    " - Multiple Aspects, All negative 34\n",
    " - Multiple Aspects, All neutural 24\n",
    "\n",
    "Multiple Aspects, Different sentiments 80\n",
    "\n"
   ]
  },
  {
   "cell_type": "code",
   "execution_count": 115,
   "id": "photographic-convenience",
   "metadata": {},
   "outputs": [],
   "source": [
    "test_biaffine_energy_same_sentiment = test_biaffine_energy[['sentence', 'tokens', 'tags', 'predicted_dependencies',\n",
    "       'predicted_heads', 'dependencies', 'aspect_sentiment', 'from_to']][(test_biaffine_energy['aspect_no']>1) & (test_biaffine_energy['sentiment_diff']==0)]\n",
    "\n",
    "test_biaffine_energy_same_sentiment.to_json('Restaurants_Test_Gold_depparsed_with_energy_same_sentiment.json', orient='records')"
   ]
  },
  {
   "cell_type": "code",
   "execution_count": 73,
   "id": "known-julian",
   "metadata": {},
   "outputs": [
    {
     "data": {
      "text/plain": [
       "(235, 8)"
      ]
     },
     "execution_count": 73,
     "metadata": {},
     "output_type": "execute_result"
    }
   ],
   "source": [
    "test_biaffine_energy_same_sentiment.shape"
   ]
  },
  {
   "cell_type": "code",
   "execution_count": 116,
   "id": "elect-korea",
   "metadata": {},
   "outputs": [],
   "source": [
    "test_biaffine_energy_diff_sentiment = test_biaffine_energy[['sentence', 'tokens', 'tags', 'predicted_dependencies',\n",
    "       'predicted_heads', 'dependencies', 'aspect_sentiment', 'from_to']][(test_biaffine_energy['aspect_no']>1) & (test_biaffine_energy['sentiment_diff']>0)]\n",
    "\n",
    "test_biaffine_energy_diff_sentiment.to_json('Restaurants_Test_Gold_depparsed_with_energy_diff_sentiment.json', orient='records')"
   ]
  },
  {
   "cell_type": "code",
   "execution_count": 117,
   "id": "incomplete-musician",
   "metadata": {},
   "outputs": [
    {
     "data": {
      "text/plain": [
       "(80, 8)"
      ]
     },
     "execution_count": 117,
     "metadata": {},
     "output_type": "execute_result"
    }
   ],
   "source": [
    "test_biaffine_energy_diff_sentiment.shape"
   ]
  },
  {
   "cell_type": "code",
   "execution_count": 118,
   "id": "substantial-steam",
   "metadata": {},
   "outputs": [],
   "source": [
    "test_biaffine_energy_all_pos = test_biaffine_energy[['sentence', 'tokens', 'tags', 'predicted_dependencies',\n",
    "       'predicted_heads', 'dependencies', 'aspect_sentiment', 'from_to']][(test_biaffine_energy['aspect_no']>1) & (test_biaffine_energy['sentiment_diff']==0) & (test_biaffine_energy['best_sentiment']== 1)]\n",
    "\n",
    "test_biaffine_energy_all_pos.to_json('Restaurants_Test_Gold_depparsed_with_energy_all_pos.json', orient='records')"
   ]
  },
  {
   "cell_type": "code",
   "execution_count": 119,
   "id": "brief-taste",
   "metadata": {},
   "outputs": [
    {
     "data": {
      "text/plain": [
       "(177, 8)"
      ]
     },
     "execution_count": 119,
     "metadata": {},
     "output_type": "execute_result"
    }
   ],
   "source": [
    "test_biaffine_energy_all_pos.shape"
   ]
  },
  {
   "cell_type": "code",
   "execution_count": 120,
   "id": "forward-skiing",
   "metadata": {},
   "outputs": [],
   "source": [
    "test_biaffine_energy_all_neg = test_biaffine_energy[['sentence', 'tokens', 'tags', 'predicted_dependencies',\n",
    "       'predicted_heads', 'dependencies', 'aspect_sentiment', 'from_to']][(test_biaffine_energy['aspect_no']>1) & (test_biaffine_energy['sentiment_diff']==0) & (test_biaffine_energy['best_sentiment']== -1)]\n",
    "test_biaffine_energy_all_neg.to_json('Restaurants_Test_Gold_depparsed_with_energy_all_neg.json', orient='records')"
   ]
  },
  {
   "cell_type": "code",
   "execution_count": 121,
   "id": "proprietary-caution",
   "metadata": {},
   "outputs": [
    {
     "data": {
      "text/plain": [
       "(34, 8)"
      ]
     },
     "execution_count": 121,
     "metadata": {},
     "output_type": "execute_result"
    }
   ],
   "source": [
    "test_biaffine_energy_all_neg.shape"
   ]
  },
  {
   "cell_type": "code",
   "execution_count": 122,
   "id": "convinced-update",
   "metadata": {},
   "outputs": [],
   "source": [
    "test_biaffine_energy_all_neu = test_biaffine_energy[['sentence', 'tokens', 'tags', 'predicted_dependencies',\n",
    "       'predicted_heads', 'dependencies', 'aspect_sentiment', 'from_to']][(test_biaffine_energy['aspect_no']>1) & (test_biaffine_energy['sentiment_diff']==0) & (test_biaffine_energy['best_sentiment']==0)]\n",
    "\n",
    "test_biaffine_energy_all_neu.to_json('Restaurants_Test_Gold_depparsed_with_energy_all_neu.json', orient='records')"
   ]
  },
  {
   "cell_type": "code",
   "execution_count": 123,
   "id": "juvenile-protection",
   "metadata": {},
   "outputs": [
    {
     "data": {
      "text/plain": [
       "(24, 8)"
      ]
     },
     "execution_count": 123,
     "metadata": {},
     "output_type": "execute_result"
    }
   ],
   "source": [
    "test_biaffine_energy_all_neu.shape"
   ]
  },
  {
   "cell_type": "code",
   "execution_count": null,
   "id": "democratic-launch",
   "metadata": {},
   "outputs": [],
   "source": []
  }
 ],
 "metadata": {
  "kernelspec": {
   "display_name": "Python 3",
   "language": "python",
   "name": "python3"
  },
  "language_info": {
   "codemirror_mode": {
    "name": "ipython",
    "version": 3
   },
   "file_extension": ".py",
   "mimetype": "text/x-python",
   "name": "python",
   "nbconvert_exporter": "python",
   "pygments_lexer": "ipython3",
   "version": "3.8.2"
  }
 },
 "nbformat": 4,
 "nbformat_minor": 5
}
